{
 "cells": [
  {
   "cell_type": "code",
   "execution_count": null,
   "metadata": {},
   "outputs": [],
   "source": [
    "import pandas as pd\n",
    "import numpy as np\n",
    "import matplotlib.pyplot as plt\n",
    "import seaborn as sns\n",
    "import random\n",
    "import os, re\n",
    "pd.set_option('display.max_columns', None)\n",
    "# pd.set_option('display.max_rows', None)"
   ]
  },
  {
   "cell_type": "code",
   "execution_count": null,
   "metadata": {},
   "outputs": [],
   "source": [
    "from google.colab import drive\n",
    "drive.mount(\"/content/drive\")\n",
    "GOOGLE_PATH = \"drive/MyDrive/SI671/project/\""
   ]
  },
  {
   "cell_type": "code",
   "execution_count": null,
   "metadata": {},
   "outputs": [],
   "source": [
    "path = GOOGLE_PATH + \"datasets/pbp_dataset\""
   ]
  },
  {
   "cell_type": "code",
   "execution_count": null,
   "metadata": {},
   "outputs": [],
   "source": [
    "pbp_data=[]\n",
    "for file_name in os.listdir(path):\n",
    "    if file_name.endswith(\"_pbp.csv\"):\n",
    "        season = file_name.split(\"_\")[0]\n",
    "        df = pd.read_csv(file_name)\n",
    "        df['season'] = season\n",
    "        pbp_data.append(df)"
   ]
  },
  {
   "cell_type": "code",
   "execution_count": null,
   "metadata": {},
   "outputs": [],
   "source": [
    "pbp_data = pd.concat(pbp_data, ignore_index=True)"
   ]
  },
  {
   "cell_type": "code",
   "execution_count": null,
   "metadata": {},
   "outputs": [],
   "source": [
    "player = pd.read_csv(path + \"/NBA-playerlist.csv\")\n",
    "player_data = pd.read_csv(path + \"/player_data.csv\")"
   ]
  },
  {
   "cell_type": "code",
   "execution_count": null,
   "metadata": {},
   "outputs": [],
   "source": [
    "player = player[[\"DISPLAY_FIRST_LAST\", \"PERSON_ID\"]]\n",
    "player.columns = [\"name\", \"id\"]"
   ]
  },
  {
   "cell_type": "code",
   "execution_count": null,
   "metadata": {},
   "outputs": [],
   "source": [
    "pbp_2000_01= pd.read_csv(path+\"/2000-01_pbp.csv\")"
   ]
  },
  {
   "cell_type": "code",
   "execution_count": null,
   "metadata": {},
   "outputs": [],
   "source": [
    "pbp_2001_02['HOMEDESCRIPTION'].dropna().unique()"
   ]
  },
  {
   "cell_type": "code",
   "execution_count": null,
   "metadata": {},
   "outputs": [],
   "source": [
    "interest_action = ['PTS', 'MISS']\n",
    "pattern = '|'.join(interest_action)\n",
    "pbp_2001_02_shoot = pbp_2001_02[pbp_2001_02['HOMEDESCRIPTION'].astype(str).str.contains(pattern, na=False) |\n",
    "                                pbp_2001_02['VISITORDESCRIPTION'].astype(str).str.contains(pattern, na=False)]\n"
   ]
  },
  {
   "cell_type": "markdown",
   "metadata": {},
   "source": [
    "if one player block another player's shot, the player1 would be the shooter and the player3 would be blocker"
   ]
  },
  {
   "cell_type": "markdown",
   "metadata": {},
   "source": [
    "we have six different score type ['Shot', 'Throw', 'Layup', 'Dunk', 'Fadeaway', 'Finger Roll']\n",
    "shot (usually mentioned as jump shot) and fade away would have the distance information and we mark the layup and finger roll as the same type.\n"
   ]
  },
  {
   "cell_type": "code",
   "execution_count": null,
   "metadata": {},
   "outputs": [],
   "source": [
    "score_type = ['Shot', 'Throw', 'Layup', 'Dunk', 'Fadeaway', 'Finger Roll']\n",
    "miss = 'MISS'\n",
    "make = 'PTS'"
   ]
  },
  {
   "cell_type": "code",
   "execution_count": null,
   "metadata": {},
   "outputs": [],
   "source": [
    "interest_action = ['PTS', 'MISS']\n",
    "pattern = '|'.join(interest_action)\n",
    "def extract_pattern(dataset, pattern):\n",
    "    dataset = dataset[dataset['HOMEDESCRIPTION'].astype(str).str.contains(pattern, na=False) |\n",
    "                    dataset['VISITORDESCRIPTION'].astype(str).str.contains(pattern, na=False)]\n",
    "    \n",
    "    return dataset"
   ]
  },
  {
   "cell_type": "code",
   "execution_count": null,
   "metadata": {},
   "outputs": [],
   "source": [
    "def extract_shot_player(dataset):\n",
    "    dataset['player_name'] = dataset.apply(lambda row: row[f'PLAYER1_NAME'], axis=1)\n",
    "    dataset['player_id'] = dataset.apply(lambda row: row[f'PLAYER1_ID'], axis=1)\n",
    "    dataset['team_abbr'] = dataset.apply(lambda row: row['PLAYER1_TEAM_ABBREVIATION'], axis=1)\n",
    "    dataset['team_id'] = dataset.apply(lambda row: row['PLAYER1_TEAM_ID'], axis=1)\n",
    "    dataset['team_nickname'] = dataset.apply(lambda row: row['PLAYER1_TEAM_NICKNAME'], axis=1)\n",
    "    return dataset"
   ]
  },
  {
   "cell_type": "code",
   "execution_count": null,
   "metadata": {},
   "outputs": [],
   "source": [
    "def extract_score_type(dataset, score_type):\n",
    "    for play in score_type:\n",
    "        dataset[play] = dataset.apply(lambda row: int(play in (str(row['HOMEDESCRIPTION']) or '') or play in (str(row['VISITORDESCRIPTION']) or '')), axis=1)\n",
    "    return dataset"
   ]
  },
  {
   "cell_type": "code",
   "execution_count": null,
   "metadata": {},
   "outputs": [],
   "source": [
    "def extract_distance(desc):\n",
    "    if desc:\n",
    "        match = re.search(r'(\\d+)\\'', desc)\n",
    "        return int(match.group(1)) if match else 0\n",
    "    return 0\n",
    "\n",
    "def extract_distance_df(dataset):\n",
    "    dataset['shot_distance'] = dataset.apply(lambda row: extract_distance(str(row['HOMEDESCRIPTION'])) or \n",
    "                                          extract_distance(str(row['VISITORDESCRIPTION'])), axis=1)\n",
    "    return dataset"
   ]
  },
  {
   "cell_type": "code",
   "execution_count": null,
   "metadata": {},
   "outputs": [],
   "source": [
    "def extract_make_or_miss(dataset):\n",
    "    dataset['make'] = ((dataset['HOMEDESCRIPTION'].str.contains('PTS', na=False)) |\n",
    "                       (dataset['VISITORDESCRIPTION'].str.contains('PTS', na=False))).astype(int)\n",
    "    dataset['miss'] = ((dataset['HOMEDESCRIPTION'].str.contains('MISS', na=False)) |\n",
    "                       (dataset['VISITORDESCRIPTION'].str.contains('MISS', na=False))).astype(int)\n",
    "    return dataset"
   ]
  },
  {
   "cell_type": "code",
   "execution_count": null,
   "metadata": {},
   "outputs": [],
   "source": [
    "def extract_pts_type(dataset):\n",
    "    dataset['3PT'] = ((dataset['HOMEDESCRIPTION'].str.contains('3PT', na=False) & dataset['HOMEDESCRIPTION'].str.contains('Shot', na=False)) |\n",
    "                (dataset['VISITORDESCRIPTION'].str.contains('3PT', na=False) & dataset['VISITORDESCRIPTION'].str.contains('Shot', na=False))).astype(int)\n",
    "\n",
    "    dataset['FT'] = ((dataset['HOMEDESCRIPTION'].str.contains('Free Throw', na=False)) |\n",
    "                (dataset['VISITORDESCRIPTION'].str.contains('Free Throw', na=False))).astype(int)\n",
    "\n",
    "    dataset['2PT'] = ((dataset['3PT'] == 0) & (dataset['FT'] == 0)).astype(int)\n",
    "    return dataset\n"
   ]
  },
  {
   "cell_type": "code",
   "execution_count": null,
   "metadata": {},
   "outputs": [],
   "source": [
    "def extract_interest_col(dataset, interest_cols, pattern, score_type):\n",
    "    df = dataset.copy()\n",
    "    df = extract_pattern(df, pattern)\n",
    "    df = extract_make_or_miss(df)\n",
    "    df = extract_score_type(df, score_type)\n",
    "    df = extract_shot_player(df)\n",
    "    df = extract_distance_df(df)\n",
    "    df = extract_pts_type(df)\n",
    "    return df[interest_cols]"
   ]
  },
  {
   "cell_type": "code",
   "execution_count": null,
   "metadata": {},
   "outputs": [],
   "source": [
    "interest_cols = ['GAME_ID', 'HOMEDESCRIPTION', 'VISITORDESCRIPTION', 'make','miss', 'player_name', 'player_id', 'team_abbr', 'team_id', 'team_nickname', 'Shot', 'Throw', 'Layup', 'Dunk', 'Fadeaway', 'Finger Roll', 'shot_distance', '2PT', '3PT', 'FT']"
   ]
  },
  {
   "cell_type": "markdown",
   "metadata": {},
   "source": [
    "# Extract all season's play detail"
   ]
  },
  {
   "cell_type": "markdown",
   "metadata": {},
   "source": [
    "2019-20 data in another format"
   ]
  },
  {
   "cell_type": "code",
   "execution_count": null,
   "metadata": {},
   "outputs": [],
   "source": [
    "pbp_filepath=[]\n",
    "for file_name in os.listdir(path):\n",
    "    if file_name.endswith(\"_pbp.csv\"):\n",
    "        pbp_filepath.append(path+\"/\"+file_name)"
   ]
  },
  {
   "cell_type": "code",
   "execution_count": null,
   "metadata": {},
   "outputs": [],
   "source": [
    "pbp_filepath.remove(path+\"/2019-20_pbp.csv\")"
   ]
  },
  {
   "cell_type": "code",
   "execution_count": null,
   "metadata": {},
   "outputs": [],
   "source": [
    "shooting_list=[]\n",
    "for season, filepath in enumerate(pbp_filepath):\n",
    "    df = pd.read_csv(filepath)\n",
    "    shooting = extract_interest_col(df, interest_cols, pattern, score_type)\n",
    "    shooting['season']=season+2000\n",
    "    shooting_list.append(shooting)"
   ]
  },
  {
   "cell_type": "code",
   "execution_count": null,
   "metadata": {},
   "outputs": [],
   "source": [
    "players = []\n",
    "for i in range(2000,2020):\n",
    "    print(i)\n",
    "    player=player_data[(player_data['year_end']>=i)&(player_data['year_start']<=i)]\n",
    "    players.append(player)\n",
    "    print(len(player[player['name'].duplicated()]))"
   ]
  },
  {
   "cell_type": "markdown",
   "metadata": {},
   "source": [
    "## Deal with duplicate values for 08, 09, 13, 14"
   ]
  },
  {
   "cell_type": "code",
   "execution_count": null,
   "metadata": {},
   "outputs": [],
   "source": [
    "shooting_list[8].loc[(shooting_list[8]['player_name']=='Marcus Williams')&(shooting_list[8]['team_abbr']=='GSW'),'player_name']='Marcus Williams_UConn'"
   ]
  },
  {
   "cell_type": "code",
   "execution_count": null,
   "metadata": {},
   "outputs": [],
   "source": [
    "players[8].loc[(players[8]['name']=='Marcus Williams')&(players[8]['college']=='University of Connecticut'),'name']='Marcus Williams_UConn'"
   ]
  },
  {
   "cell_type": "code",
   "execution_count": null,
   "metadata": {},
   "outputs": [],
   "source": [
    "players[8][players[8]['name']=='Marcus Williams']"
   ]
  },
  {
   "cell_type": "code",
   "execution_count": null,
   "metadata": {},
   "outputs": [],
   "source": [
    "shooting_list[9][shooting_list[9]['player_name']=='Marcus Williams']['team_abbr'].unique()"
   ]
  },
  {
   "cell_type": "code",
   "execution_count": null,
   "metadata": {},
   "outputs": [],
   "source": [
    "players[9][players[9]['name']=='Marcus Williams']"
   ]
  },
  {
   "cell_type": "code",
   "execution_count": null,
   "metadata": {},
   "outputs": [],
   "source": [
    "players[9]"
   ]
  },
  {
   "cell_type": "code",
   "execution_count": null,
   "metadata": {},
   "outputs": [],
   "source": [
    "players[9]=players[9].drop(4393)"
   ]
  },
  {
   "cell_type": "code",
   "execution_count": null,
   "metadata": {},
   "outputs": [],
   "source": [
    "players[9][players[9]['name']=='Marcus Williams']"
   ]
  },
  {
   "cell_type": "code",
   "execution_count": null,
   "metadata": {},
   "outputs": [],
   "source": [
    "players[13][players[13]['name'].duplicated()]"
   ]
  },
  {
   "cell_type": "code",
   "execution_count": null,
   "metadata": {},
   "outputs": [],
   "source": [
    "players[13][players[13]['name']=='Chris Wright']"
   ]
  },
  {
   "cell_type": "code",
   "execution_count": null,
   "metadata": {},
   "outputs": [],
   "source": [
    "players[13][players[13]['name']=='Chris Johnson']"
   ]
  },
  {
   "cell_type": "code",
   "execution_count": null,
   "metadata": {},
   "outputs": [],
   "source": [
    "players[13]=players[13].drop(1999)"
   ]
  },
  {
   "cell_type": "code",
   "execution_count": null,
   "metadata": {},
   "outputs": [],
   "source": [
    "players[13]=players[13].drop(4496)"
   ]
  },
  {
   "cell_type": "code",
   "execution_count": null,
   "metadata": {},
   "outputs": [],
   "source": [
    "#only leave Chris Johnson from Dayton\n",
    "shooting_list[13][shooting_list[13]['player_name']=='Chris Johnson']['team_abbr'].unique()"
   ]
  },
  {
   "cell_type": "code",
   "execution_count": null,
   "metadata": {},
   "outputs": [],
   "source": [
    "shooting_list[13][shooting_list[13]['player_name']=='Chris Wright']['team_abbr'].unique()"
   ]
  },
  {
   "cell_type": "code",
   "execution_count": null,
   "metadata": {},
   "outputs": [],
   "source": [
    "players[14][players[14]['name'].duplicated()]"
   ]
  },
  {
   "cell_type": "code",
   "execution_count": null,
   "metadata": {},
   "outputs": [],
   "source": [
    "shooting_list[14][shooting_list[14]['player_name']=='Tony Mitchell']['team_abbr'].unique()"
   ]
  },
  {
   "cell_type": "code",
   "execution_count": null,
   "metadata": {},
   "outputs": [],
   "source": [
    "shooting_list[0][shooting_list[0]['Fadeaway']==1]"
   ]
  },
  {
   "cell_type": "code",
   "execution_count": null,
   "metadata": {},
   "outputs": [],
   "source": [
    "shooting_list[1][shooting_list[1]['Fadeaway']==1]"
   ]
  },
  {
   "cell_type": "code",
   "execution_count": null,
   "metadata": {},
   "outputs": [],
   "source": [
    "shooting_list[0]"
   ]
  },
  {
   "cell_type": "markdown",
   "metadata": {},
   "source": [
    "# All cleaned, start analysis"
   ]
  },
  {
   "cell_type": "code",
   "execution_count": null,
   "metadata": {},
   "outputs": [],
   "source": [
    "all_season = []\n",
    "for i in range(0,19):\n",
    "    merged= pd.merge(shooting_list[i],players[i][['name','position']],how='left',left_on='player_name',right_on='name')\n",
    "    all_season.append(merged)"
   ]
  },
  {
   "cell_type": "code",
   "execution_count": null,
   "metadata": {},
   "outputs": [],
   "source": [
    "df = pd.concat(all_season,ignore_index=True)"
   ]
  },
  {
   "cell_type": "code",
   "execution_count": null,
   "metadata": {},
   "outputs": [],
   "source": [
    "df['position'].info()"
   ]
  },
  {
   "cell_type": "code",
   "execution_count": null,
   "metadata": {},
   "outputs": [],
   "source": [
    "df.columns"
   ]
  },
  {
   "cell_type": "code",
   "execution_count": null,
   "metadata": {},
   "outputs": [],
   "source": [
    "all_shootings = df[['make', 'miss','Shot','Throw','Layup','Dunk','Fadeaway','Finger Roll','shot_distance','2PT', '3PT', 'FT','season', 'name', 'position']]"
   ]
  },
  {
   "cell_type": "code",
   "execution_count": null,
   "metadata": {},
   "outputs": [],
   "source": [
    "all_shootings.describe()"
   ]
  },
  {
   "cell_type": "code",
   "execution_count": null,
   "metadata": {},
   "outputs": [],
   "source": [
    "all_shootings['position'].fillna('N',inplace=True)"
   ]
  },
  {
   "cell_type": "code",
   "execution_count": null,
   "metadata": {},
   "outputs": [],
   "source": [
    "all_shootings.columns"
   ]
  },
  {
   "cell_type": "code",
   "execution_count": null,
   "metadata": {},
   "outputs": [],
   "source": [
    "all_shootings[(all_shootings['Shot']==1) & (all_shootings['Layup']==1) &(all_shootings['Dunk']==1) & (all_shootings['Fadeaway']==1) &(all_shootings['Finger Roll']==1) & (all_shootings['Throw']==0)]"
   ]
  },
  {
   "cell_type": "code",
   "execution_count": null,
   "metadata": {},
   "outputs": [],
   "source": [
    "all_shootings[(all_shootings['Finger Roll']==0) & (all_shootings['Layup']==1)]"
   ]
  },
  {
   "cell_type": "code",
   "execution_count": null,
   "metadata": {},
   "outputs": [],
   "source": [
    "all_shootings['position']=all_shootings['position'].apply(lambda x: x.split('-')[0])"
   ]
  },
  {
   "cell_type": "code",
   "execution_count": null,
   "metadata": {},
   "outputs": [],
   "source": [
    "shooting_byseason=all_shootings.groupby(['season']).sum()"
   ]
  },
  {
   "cell_type": "code",
   "execution_count": null,
   "metadata": {},
   "outputs": [],
   "source": [
    "shooting_byseason.reset_index(inplace=True)"
   ]
  },
  {
   "cell_type": "code",
   "execution_count": null,
   "metadata": {},
   "outputs": [],
   "source": [
    "shooting_byseason.set_index('season',inplace=True)"
   ]
  },
  {
   "cell_type": "code",
   "execution_count": null,
   "metadata": {},
   "outputs": [],
   "source": [
    "shooting_byseason['Field_Goal']=shooting_byseason['2PT']+shooting_byseason['3PT']"
   ]
  },
  {
   "cell_type": "code",
   "execution_count": null,
   "metadata": {},
   "outputs": [],
   "source": [
    "shooting_byseason['Shot']+shooting_byseason['Layup']+shooting_byseason['Dunk']+shooting_byseason['Fadeaway']+shooting_byseason['Finger Roll']"
   ]
  },
  {
   "cell_type": "code",
   "execution_count": null,
   "metadata": {},
   "outputs": [],
   "source": [
    "shooting_byseason"
   ]
  },
  {
   "cell_type": "code",
   "execution_count": null,
   "metadata": {},
   "outputs": [],
   "source": [
    "shootings_byposition=all_shootings.groupby(['season','position']).sum()"
   ]
  },
  {
   "cell_type": "code",
   "execution_count": null,
   "metadata": {},
   "outputs": [],
   "source": [
    "shootings_byposition.reset_index(inplace=True)"
   ]
  },
  {
   "cell_type": "code",
   "execution_count": null,
   "metadata": {},
   "outputs": [],
   "source": [
    "shootings_byposition"
   ]
  },
  {
   "cell_type": "code",
   "execution_count": null,
   "metadata": {},
   "outputs": [],
   "source": [
    "shootings_byposition"
   ]
  },
  {
   "cell_type": "code",
   "execution_count": null,
   "metadata": {},
   "outputs": [],
   "source": [
    "shootings_byposition['layup_all']=shootings_byposition['Layup']+shootings_byposition['Finger Roll']\n",
    "shootings_byposition['shot_all']=shootings_byposition['Shot']+shootings_byposition['Fadeaway']\n"
   ]
  },
  {
   "cell_type": "code",
   "execution_count": null,
   "metadata": {},
   "outputs": [],
   "source": [
    "shootings_byposition['all_attempt']=shootings_byposition['2PT']+shootings_byposition['3PT']"
   ]
  },
  {
   "cell_type": "code",
   "execution_count": null,
   "metadata": {},
   "outputs": [],
   "source": [
    "position_count=all_shootings[['season','position','Shot']].groupby(['season','position']).count()\n",
    "position_count.reset_index(inplace=True)\n",
    "position_count"
   ]
  },
  {
   "cell_type": "code",
   "execution_count": null,
   "metadata": {},
   "outputs": [],
   "source": [
    "shootings_byposition=shootings_byposition.merge(position_count,on=['season','position'],how='left')\n",
    "shootings_byposition.rename(columns={'Shot_y':'count','Shot_x':'Shot'},inplace=True)\n"
   ]
  },
  {
   "cell_type": "code",
   "execution_count": null,
   "metadata": {},
   "outputs": [],
   "source": [
    "shootings_byposition"
   ]
  },
  {
   "cell_type": "code",
   "execution_count": null,
   "metadata": {},
   "outputs": [],
   "source": [
    "makebytype=all_shootings.groupby(['season','position','make']).sum().reset_index()\n",
    "makebytype=makebytype[makebytype['make']==1]\n",
    "makebytype['layup_made']=makebytype['Layup']+makebytype['Finger Roll']\n",
    "makebytype['shot_made']=makebytype['Shot']+makebytype['Fadeaway']\n",
    "makebytype=makebytype[['season','position','shot_made','layup_made','Dunk','2PT','3PT','FT']]\n",
    "makebytype.columns=['season','position','shot_made','layup_made','dunk_made','2PT_made','3Pt_made','FT_made']\n",
    "makebytype"
   ]
  },
  {
   "cell_type": "code",
   "execution_count": null,
   "metadata": {},
   "outputs": [],
   "source": [
    "shootings_byposition=shootings_byposition.merge(makebytype,on=['season','position'],how='left')\n",
    "shootings_byposition"
   ]
  },
  {
   "cell_type": "code",
   "execution_count": null,
   "metadata": {},
   "outputs": [],
   "source": [
    "shootings_byposition['2PT%']=shootings_byposition['2PT_made']/shootings_byposition['2PT']\n",
    "shootings_byposition['3PT%']=shootings_byposition['3Pt_made']/shootings_byposition['3PT']\n",
    "shootings_byposition['FT%']=shootings_byposition['FT_made']/shootings_byposition['FT']\n",
    "shootings_byposition['layup%']=shootings_byposition['layup_made']/shootings_byposition['layup_all']\n",
    "shootings_byposition['shot%']=shootings_byposition['shot_made']/shootings_byposition['shot_all']\n",
    "shootings_byposition['dunk%']=shootings_byposition['dunk_made']/shootings_byposition['Dunk']\n"
   ]
  },
  {
   "cell_type": "code",
   "execution_count": null,
   "metadata": {},
   "outputs": [],
   "source": [
    "shootings_byposition['all%']=(shootings_byposition['2PT_made']+shootings_byposition['3Pt_made'])/(shootings_byposition['2PT']+shootings_byposition['3PT'])"
   ]
  },
  {
   "cell_type": "code",
   "execution_count": null,
   "metadata": {},
   "outputs": [],
   "source": [
    "shootings_byposition.columns"
   ]
  },
  {
   "cell_type": "code",
   "execution_count": null,
   "metadata": {},
   "outputs": [],
   "source": [
    "shootings_byposition"
   ]
  },
  {
   "cell_type": "code",
   "execution_count": null,
   "metadata": {},
   "outputs": [],
   "source": [
    "center = shootings_byposition[shootings_byposition['position']=='C']\n",
    "f = shootings_byposition[shootings_byposition['position']=='F']\n",
    "g = shootings_byposition[shootings_byposition['position']=='G']"
   ]
  },
  {
   "cell_type": "code",
   "execution_count": null,
   "metadata": {},
   "outputs": [],
   "source": [
    "def calc_wma(ser, wd_size, weights=1):\n",
    "    if isinstance(weights, int):\n",
    "        weights = np.full(wd_size, weights, dtype=float)\n",
    "\n",
    "    wma = []\n",
    "    for i in range(len(ser)):\n",
    "        low, high = max(0, i - wd_size + 1), i + 1\n",
    "        wma.append(np.average(ser.iloc[low: high], weights=weights[-(high - low):]))\n",
    "    return np.array(wma)"
   ]
  },
  {
   "cell_type": "code",
   "execution_count": null,
   "metadata": {},
   "outputs": [],
   "source": [
    "def getRolling(wd_size,col):\n",
    "    first_mmt = calc_wma(col, wd_size)\n",
    "    #print(first_mmt)\n",
    "    second_mmt = calc_wma(col ** 2, wd_size)\n",
    "    #print(second_mmt)\n",
    "    rolling_mean = first_mmt\n",
    "    rolling_std = np.sqrt(second_mmt - first_mmt ** 2)\n",
    "    return rolling_mean,rolling_std"
   ]
  },
  {
   "cell_type": "code",
   "execution_count": null,
   "metadata": {},
   "outputs": [],
   "source": [
    "field_goal_rm, field_goal_rstd=getRolling(3,shooting_byseason['Field_Goal'].astype('float'))\n",
    "pt2_rm, pt2_rstd=getRolling(3,shooting_byseason['2PT'].astype('float'))\n",
    "pt3_rm, pt3_rstd=getRolling(3,shooting_byseason['3PT'].astype('float'))\n",
    "ft_rm,ft_rstd=getRolling(3,shooting_byseason['FT'].astype('float'))"
   ]
  },
  {
   "cell_type": "code",
   "execution_count": null,
   "metadata": {},
   "outputs": [],
   "source": [
    "center['all_attempt']"
   ]
  },
  {
   "cell_type": "code",
   "execution_count": null,
   "metadata": {},
   "outputs": [],
   "source": [
    "center['layup_all']+center['Dunk']+center['shot_all']"
   ]
  },
  {
   "cell_type": "markdown",
   "metadata": {},
   "source": [
    "# Overall trend"
   ]
  },
  {
   "cell_type": "code",
   "execution_count": null,
   "metadata": {},
   "outputs": [],
   "source": [
    "fig, axes = plt.subplots(4, 1, figsize=(15, 10), sharex=True)\n",
    "axes[0].set_title(\"Field Goal Attempts\")\n",
    "axes[0].plot(shooting_byseason['Field_Goal'],label='Field Goal')\n",
    "axes[0].plot(pd.Series(field_goal_rm, index=shooting_byseason.index), label=\"Rolling Mean\")\n",
    "axes[0].legend(loc='upper left')\n",
    "#axes[0].plot(pd.Series(field_goal_rstd, index=shooting_byseason.index), label=\"Rolling Std\")\n",
    "axes[0].set_ylabel(\"Attempts\")\n",
    "\n",
    "axes[1].set_title(\"2-Point Shoot Attempts\")\n",
    "axes[1].plot(shooting_byseason['2PT'],label='2PT')\n",
    "axes[1].plot(pd.Series(pt2_rm, index=shooting_byseason.index), label=\"Rolling Mean\")\n",
    "axes[1].set_ylabel(\"Attempts\")\n",
    "axes[1].legend(loc='upper left')\n",
    "\n",
    "axes[2].set_title(\"3-Point Shoot Attemps\")\n",
    "axes[2].plot(shooting_byseason['3PT'],label='3PT')\n",
    "axes[2].plot(pd.Series(pt3_rm, index=shooting_byseason.index), label=\"Rolling Mean\")\n",
    "axes[2].set_ylabel(\"Attempts\")\n",
    "axes[2].legend(loc='upper left')\n",
    "\n",
    "axes[3].set_title(\"Free Throw Attemps\")\n",
    "axes[3].plot(shooting_byseason['FT'],label='FT')\n",
    "axes[3].plot(pd.Series(ft_rm, index=shooting_byseason.index), label=\"Rolling Mean\")\n",
    "axes[3].set_ylabel(\"Attempts\")\n",
    "axes[3].legend(loc='upper left')\n",
    "\n",
    "axes[3].set_xticks(shooting_byseason.index)\n",
    "fig.suptitle(\"Shooting Attempts League Total\", x=0.513, y=0.95)\n",
    "plt.savefig('1')"
   ]
  },
  {
   "cell_type": "markdown",
   "metadata": {},
   "source": [
    "According to the observe and rolling mean plot for each shooting category, we can see that since 2000, the overall field goal attempts and 3-point shooting attempts have an increasing trend, and the 2-points shoot attempts and free throw attempts have an decreasng trend, which indicates that the overall shooting for the league is increasing, but player tends to shoot more 3-pointers instead of 2-pointers and the decreasing trend for free throw might indicate that the players are less inclined to attack the basket than before. "
   ]
  },
  {
   "cell_type": "markdown",
   "metadata": {},
   "source": [
    "# draw time series plot for three positions"
   ]
  },
  {
   "cell_type": "code",
   "execution_count": null,
   "metadata": {},
   "outputs": [],
   "source": [
    "center.head()"
   ]
  },
  {
   "cell_type": "code",
   "execution_count": null,
   "metadata": {},
   "outputs": [],
   "source": [
    "center.set_index('season',inplace=True)\n",
    "f.set_index('season',inplace=True)\n",
    "g.set_index('season',inplace=True)"
   ]
  },
  {
   "cell_type": "code",
   "execution_count": null,
   "metadata": {},
   "outputs": [],
   "source": [
    "center"
   ]
  },
  {
   "cell_type": "code",
   "execution_count": null,
   "metadata": {},
   "outputs": [],
   "source": [
    "f"
   ]
  },
  {
   "cell_type": "code",
   "execution_count": null,
   "metadata": {},
   "outputs": [],
   "source": [
    "g"
   ]
  },
  {
   "cell_type": "code",
   "execution_count": null,
   "metadata": {},
   "outputs": [],
   "source": [
    "center['all_attempt']/center['count']"
   ]
  },
  {
   "cell_type": "code",
   "execution_count": null,
   "metadata": {},
   "outputs": [],
   "source": [
    "f['all_attempt']/f['count']"
   ]
  },
  {
   "cell_type": "code",
   "execution_count": null,
   "metadata": {},
   "outputs": [],
   "source": [
    "g['all_attempt']/g['count']"
   ]
  },
  {
   "cell_type": "code",
   "execution_count": null,
   "metadata": {},
   "outputs": [],
   "source": [
    "(g['all_attempt']/g['count'])-(f['all_attempt']/f['count'])"
   ]
  },
  {
   "cell_type": "code",
   "execution_count": null,
   "metadata": {},
   "outputs": [],
   "source": [
    "fig, axes = plt.subplots(4, 1, figsize=(15, 10), sharex=True)\n",
    "axes[0].set_title(\"Field Goal Attemps Per Player By Position\")\n",
    "axes[0].plot(center['all_attempt']/center['count'],label='Center')\n",
    "axes[0].plot(f['all_attempt']/f['count'],label='Forward')\n",
    "axes[0].plot(g['all_attempt']/g['count'],label='Guard')\n",
    "axes[0].set_ylabel(\"Attempts\")\n",
    "axes[0].legend(loc='upper left')\n",
    "\n",
    "axes[1].set_title(\"2-Points Attemps Per Player By Position\")\n",
    "axes[1].plot(center['2PT']/center['count'],label='Center')\n",
    "axes[1].plot(f['2PT']/f['count'],label='Forward')\n",
    "axes[1].plot(g['2PT']/g['count'],label='Guard')\n",
    "axes[1].set_ylabel(\"Attempts\")\n",
    "axes[1].legend(loc='upper left')\n",
    "\n",
    "axes[2].set_title(\"3-Points Attemps Per player By Position\")\n",
    "axes[2].plot(center['3PT']/center['count'],label='Center')\n",
    "axes[2].plot(f['3PT']/f['count'],label='Forward')\n",
    "axes[2].plot(g['3PT']/g['count'],label='Guard')\n",
    "axes[2].set_ylabel(\"Attempts\")\n",
    "axes[2].legend(loc='upper left')\n",
    "\n",
    "axes[3].set_title(\"Free Throw Attemps Per player By Position\")\n",
    "axes[3].plot(center['FT']/center['count'],label='Center')\n",
    "axes[3].plot(f['FT']/f['count'],label='Forward')\n",
    "axes[3].plot(g['FT']/g['count'],label='Guard')\n",
    "axes[3].set_ylabel(\"Attempts\")\n",
    "axes[3].legend(loc='upper left')\n",
    "\n",
    "axes[3].set_xticks(center.index)\n",
    "fig.suptitle(\"Shooting Attempts Per Player By Postion\", x=0.513, y=0.95)"
   ]
  },
  {
   "cell_type": "markdown",
   "metadata": {},
   "source": [
    "We then want to research about the shooting attempts for each position and the tactical priority for each position. because the player counts for each postion are imbalanced, so we decided to use Attempts Per Player(APP) to represent the amount of shooting attempts for each position. As the plot shows, Guard has the highest APP for Field Goals among all the positions, while center has the lowest APP for Field Goals, this ties with our common sense about basketball because in a game guard is dominating the ball and mostly guards are the position who are responisble for scoring. While there is a interesting finding that the different between Guards and Forwards are becoming smaller, this can probably indicate a changing in tactics that more and more team are incline to let forwards to do the finishing. \n",
    "And for all the postions, there is a decreasing trend for 2-Pointers APP and Free Throw APP, while there is an increasing trend for 3_pointers APP, this also shows that teams in NBA tends to make more 3 shootiing attempts than attacking the basket.  "
   ]
  },
  {
   "cell_type": "code",
   "execution_count": null,
   "metadata": {},
   "outputs": [],
   "source": [
    "center"
   ]
  },
  {
   "cell_type": "code",
   "execution_count": null,
   "metadata": {},
   "outputs": [],
   "source": [
    "fig, axes = plt.subplots(4, 1, figsize=(15, 10), sharex=True)\n",
    "axes[0].set_title(\"Field Goal hit% By Position\")\n",
    "axes[0].plot(center['all%']*100,label='Center')\n",
    "axes[0].plot(f['all%']*100,label='Forward')\n",
    "axes[0].plot(g['all%']*100,label='Guard')\n",
    "axes[0].set_ylabel(\"Shooting%\")\n",
    "axes[0].legend(loc='upper left')\n",
    "\n",
    "axes[1].set_title(\"2-Points hit% By Position\")\n",
    "axes[1].plot(center['2PT%']*100,label='Center')\n",
    "axes[1].plot(f['2PT%']*100,label='Forward')\n",
    "axes[1].plot(g['2PT%']*100,label='Guard')\n",
    "axes[1].set_ylabel(\"Shooting%\")\n",
    "axes[1].legend(loc='upper left')\n",
    "\n",
    "axes[2].set_title(\"3-Points hit% By Position\")\n",
    "axes[2].plot(center['3PT%']*100,label='Center')\n",
    "axes[2].plot(f['3PT%']*100,label='Forward')\n",
    "axes[2].plot(g['3PT%']*100,label='Guard')\n",
    "axes[2].set_ylabel(\"Shooting%\")\n",
    "axes[2].legend(loc='upper left')\n",
    "\n",
    "axes[3].set_title(\"Free hit% By Position\")\n",
    "axes[3].plot(center['FT%']*100,label='Center')\n",
    "axes[3].plot(f['FT%']*100,label='Forward')\n",
    "axes[3].plot(g['FT%']*100,label='Guard')\n",
    "axes[3].set_ylabel(\"Shooting%\")\n",
    "axes[3].legend(loc='upper left')\n",
    "\n",
    "axes[3].set_xticks(center.index)\n",
    "fig.suptitle(\"Shooting hit% By Postion\", x=0.513, y=0.95)"
   ]
  },
  {
   "cell_type": "markdown",
   "metadata": {},
   "source": [
    "Among all the positions, center has the highest overall field goal and 2 point hit rate followed by forward and then guard,and for 3 point shoots, we can detect a clear increasing trend for center's 3 point hit rate, at the season of 2000-2001, center's 3 point hit rate is extremely low compare to other two positions, and it keep increasing and after 2013-2014 season, all three position's 3 point hit rate are very close to each other. This indicates that the 3 point shooting techniques for centers are much better compare to ealier seasons."
   ]
  },
  {
   "cell_type": "code",
   "execution_count": null,
   "metadata": {},
   "outputs": [],
   "source": [
    "(center['shot_all']/center['all_attempt'])*100,(center['layup_all']/center['all_attempt'])*100,(center['Dunk']/center['all_attempt'])*100"
   ]
  },
  {
   "cell_type": "code",
   "execution_count": null,
   "metadata": {},
   "outputs": [],
   "source": [
    "fig, axes = plt.subplots(3, 1, figsize=(15, 10), sharex=True)\n",
    "axes[0].set_title(\"Shooting type for Center\")\n",
    "axes[0].plot((center['shot_all']/center['all_attempt'])*100,label='Shot')\n",
    "axes[0].plot((center['layup_all']/center['all_attempt'])*100,label='Layup')\n",
    "axes[0].plot((center['Dunk']/center['all_attempt'])*100,label='Dunk') \n",
    "axes[0].set_ylabel(\"%\")\n",
    "axes[0].set_yticks([0,20,40,60,80])\n",
    "axes[0].legend(loc='upper left')\n",
    "\n",
    "axes[1].set_title(\"Shooting type for Forward\")\n",
    "axes[1].plot(f['shot_all']/f['all_attempt']*100,label='Shot')\n",
    "axes[1].plot(f['layup_all']/f['all_attempt']*100,label='Layup')\n",
    "axes[1].plot(f['Dunk']/f['all_attempt']*100,label='Dunk') \n",
    "axes[1].set_ylabel(\"%\")\n",
    "axes[1].set_yticks([0,20,40,60,80])\n",
    "axes[1].legend(loc='upper left')\n",
    "\n",
    "axes[2].set_title(\"Shooting type for Guard\")\n",
    "axes[2].plot(g['shot_all']/g['all_attempt']*100,label='Shot')\n",
    "axes[2].plot(g['layup_all']/g['all_attempt']*100,label='Layup')\n",
    "axes[2].plot(g['Dunk']/g['all_attempt']*100,label='Dunk') \n",
    "axes[2].set_ylabel(\"%\")\n",
    "axes[2].set_yticks([0,20,40,60,80])\n",
    "axes[2].legend(loc='upper left')\n",
    "\n",
    "axes[2].set_xticks(center.index)\n",
    "fig.suptitle(\"Type of shooting By Postion\", x=0.513, y=0.95)"
   ]
  },
  {
   "cell_type": "markdown",
   "metadata": {},
   "source": [
    "Then we analysed the "
   ]
  },
  {
   "cell_type": "code",
   "execution_count": null,
   "metadata": {},
   "outputs": [],
   "source": [
    "center.columns"
   ]
  },
  {
   "cell_type": "code",
   "execution_count": null,
   "metadata": {},
   "outputs": [],
   "source": [
    "fig, axes = plt.subplots(3, 1, figsize=(15, 10), sharex=True)\n",
    "axes[0].set_title(\"Hit Rate For Center\")\n",
    "axes[0].plot((center['shot%'])*100,label='Shot')\n",
    "axes[0].plot((center['layup%'])*100,label='Layup')\n",
    "axes[0].plot((center['dunk%'])*100,label='Dunk') \n",
    "axes[0].set_ylabel(\"%\")\n",
    "axes[0].set_yticks([0,20,40,60,80])\n",
    "axes[0].legend(loc='upper left')\n",
    "\n",
    "axes[1].set_title(\"Hit Rate For Forward\")\n",
    "axes[1].plot(f['shot%']*100,label='Shot')\n",
    "axes[1].plot(f['layup%']*100,label='Layup')\n",
    "axes[1].plot(f['dunk%']*100,label='Dunk') \n",
    "axes[1].set_ylabel(\"%\")\n",
    "axes[1].set_yticks([0,20,40,60,80])\n",
    "axes[1].legend(loc='upper left')\n",
    "\n",
    "axes[2].set_title(\"Hit Rate For Guard\")\n",
    "axes[2].plot(g['shot%']*100,label='Shot')\n",
    "axes[2].plot(g['layup%']*100,label='Layup')\n",
    "axes[2].plot(g['dunk%']*100,label='Dunk') \n",
    "axes[2].set_ylabel(\"%\")\n",
    "axes[2].set_yticks([0,20,40,60,80])\n",
    "axes[2].legend(loc='upper left')\n",
    "\n",
    "axes[2].set_xticks(center.index)\n",
    "fig.suptitle(\"Hit rate of shooting By Type and Postion\", x=0.513, y=0.95)"
   ]
  },
  {
   "cell_type": "markdown",
   "metadata": {},
   "source": [
    "We split all field goal attempts into three categories, Shot, Layup and Dunk, and we plot the percentage of each shooting types for each position in order to see what's the difference between each position's way of playing. "
   ]
  },
  {
   "cell_type": "code",
   "execution_count": null,
   "metadata": {},
   "outputs": [],
   "source": [
    "fig, axes = plt.subplots(3, 1, figsize=(15, 10), sharex=True)\n",
    "axes[0].set_title(\"Shooting type for Center\")\n",
    "axes[0].plot((center['2PT']/center['all_attempt'])*100,label='2PT')\n",
    "axes[0].plot((center['3PT']/center['all_attempt'])*100,label='3PT')\n",
    "axes[0].set_ylabel(\"Attempts\")\n",
    "axes[0].set_yticks([0,20,40,60,80])\n",
    "axes[0].legend(loc='upper left')\n",
    "\n",
    "axes[1].set_title(\"Shooting type for Forward\")\n",
    "axes[1].plot((f['2PT']/f['all_attempt'])*100,label='2PT')\n",
    "axes[1].plot((f['3PT']/f['all_attempt'])*100,label='3PT')\n",
    "axes[1].set_ylabel(\"Attempts\")\n",
    "axes[1].set_yticks([0,20,40,60,80])\n",
    "axes[1].legend(loc='upper left')\n",
    "\n",
    "axes[2].set_title(\"Shooting type for Guard\")\n",
    "axes[2].plot((g['2PT']/g['all_attempt'])*100,label='2PT')\n",
    "axes[2].plot((g['3PT']/g['all_attempt'])*100,label='3PT')\n",
    "axes[2].set_ylabel(\"Attempts\")\n",
    "axes[2].set_yticks([0,20,40,60,80])\n",
    "axes[2].legend(loc='upper left')\n",
    "\n",
    "axes[2].set_xticks(center.index)\n",
    "fig.suptitle(\"Type of shooting By Postion\", x=0.513, y=0.95)"
   ]
  },
  {
   "cell_type": "code",
   "execution_count": null,
   "metadata": {},
   "outputs": [],
   "source": [
    "fig, axes = plt.subplots(3, 1, figsize=(15, 10), sharex=True)\n",
    "axes[0].set_title(\"Hit Rate For Center\")\n",
    "axes[0].plot(center['2PT%']*100,label='2PT')\n",
    "axes[0].plot(center['3PT%']*100,label='3PT')\n",
    "axes[0].set_ylabel(\"%\")\n",
    "axes[0].set_yticks([0,20,40,60])\n",
    "axes[0].legend(loc='upper left')\n",
    "\n",
    "axes[1].set_title(\"Hit Rate For Forward\")\n",
    "axes[1].plot(f['2PT%']*100,label='2PT')\n",
    "axes[1].plot(f['3PT%']*100,label='3PT')\n",
    "axes[1].set_ylabel(\"%\")\n",
    "axes[1].set_yticks([0,20,40,60])\n",
    "axes[1].legend(loc='upper left')\n",
    "\n",
    "axes[2].set_title(\"Hit Rate For Guard\")\n",
    "axes[2].plot(g['2PT%']*100,label='2PT')\n",
    "axes[2].plot(g['3PT%']*100,label='3PT')\n",
    "axes[2].set_ylabel(\"%\")\n",
    "axes[2].set_yticks([0,20,40,60])\n",
    "axes[2].legend(loc='upper left')\n",
    "\n",
    "axes[2].set_xticks(center.index)\n",
    "fig.suptitle(\"Hit Rate By Postion\", x=0.513, y=0.95)"
   ]
  },
  {
   "cell_type": "code",
   "execution_count": null,
   "metadata": {},
   "outputs": [],
   "source": [
    "center"
   ]
  },
  {
   "cell_type": "code",
   "execution_count": null,
   "metadata": {},
   "outputs": [],
   "source": [
    "f"
   ]
  },
  {
   "cell_type": "code",
   "execution_count": null,
   "metadata": {},
   "outputs": [],
   "source": [
    "g"
   ]
  },
  {
   "cell_type": "markdown",
   "metadata": {},
   "source": [
    "The plot on the left shows the distribution of shooting types for each position. We can see that for all the positions, there is trend that the players are making less 2 point shooting attempts and making more 3 point shooting attempts. And the plot on the left shows the hit rate for different shooting types for each position. We can see that the hit rate for Forward and Guard are pretty stable, but the 3 point hit rate for centers has been increasing a lot."
   ]
  },
  {
   "cell_type": "code",
   "execution_count": null,
   "metadata": {},
   "outputs": [],
   "source": [
    "all_shootings[(all_shootings['Throw']==1)&(all_shootings['Shot']==1)]"
   ]
  },
  {
   "cell_type": "markdown",
   "metadata": {},
   "source": [
    "# Game by Game analysis"
   ]
  },
  {
   "cell_type": "code",
   "execution_count": null,
   "metadata": {},
   "outputs": [],
   "source": [
    "suffixes = ['make', 'miss', 'shot_distance']\n",
    "score_type.append('2PT')\n",
    "score_type.append('3PT')\n",
    "score_type.append('FT')\n",
    "for score in score_type:\n",
    "  for suffix in suffixes:\n",
    "    col = f\"{score}_{suffix}\"\n",
    "    if suffix in ['make', 'miss']:\n",
    "      df[col] = (df[suffix] == 1) & (df[score] == 1)\n",
    "      df[col] = df[col].astype(int)\n",
    "    elif (suffix == 'shot_distance') & (score in ['Shot', 'Fadeaway']):\n",
    "      df[col] = df[suffix]"
   ]
  },
  {
   "cell_type": "markdown",
   "metadata": {},
   "source": [
    "## score pattern"
   ]
  },
  {
   "cell_type": "code",
   "execution_count": null,
   "metadata": {},
   "outputs": [],
   "source": [
    "score_game = df.groupby('GAME_ID').sum()[['make', 'miss', 'Shot', 'Throw', 'Layup', 'Dunk', 'Fadeaway', 'Finger Roll', 'Shot_make', 'Shot_miss', 'Throw_make', 'Throw_miss', 'Layup_make', 'Layup_miss', 'Dunk_make', 'Dunk_miss', 'Fadeaway_make', 'Fadeaway_miss', 'Finger Roll_make', 'Finger Roll_miss','Shot_shot_distance', 'Fadeaway_shot_distance','2PT', '3PT', 'FT', '2PT_make', '2PT_miss', '3PT_make', '3PT_miss', 'FT_make', 'FT_miss']]\n",
    "score_game.reset_index(inplace=True)"
   ]
  },
  {
   "cell_type": "code",
   "execution_count": null,
   "metadata": {},
   "outputs": [],
   "source": [
    "def calc_wma(ser, wd_size, weights=1):\n",
    "    if isinstance(weights, int):\n",
    "        weights = np.full(wd_size, weights, dtype=float)\n",
    "\n",
    "    wma = []\n",
    "    for i in range(len(ser)):\n",
    "        low, high = max(0, i - wd_size + 1), i + 1\n",
    "        wma.append(np.average(ser.iloc[low: high], weights=weights[-(high - low):]))\n",
    "    return np.array(wma)"
   ]
  },
  {
   "cell_type": "code",
   "execution_count": null,
   "metadata": {},
   "outputs": [],
   "source": [
    "def draw_game_pattern(data, window_size, pattern, y_lim_inf = 0, y_lim_sup = 0, log_ret = False):\n",
    "  if log_ret:\n",
    "    fig, axes = plt.subplots(2, 1, figsize=(10, 12), sharex=True)\n",
    "\n",
    "    axes[0].set_xlabel(\"match\")\n",
    "    wd_size = window_size\n",
    "    first_mmt = calc_wma(data, wd_size)\n",
    "    second_mmt = calc_wma((data) ** 2, wd_size)\n",
    "    rolling_mean = first_mmt\n",
    "    rolling_std = np.sqrt(second_mmt - first_mmt ** 2)\n",
    "    axes[0].plot(data, label=\"Original\")\n",
    "    axes[0].plot(pd.Series(rolling_mean, index=data.index), label=\"Rolling Mean\")\n",
    "    if y_lim_inf != 0 & y_lim_sup != 0:\n",
    "      plt.ylim(y_lim_inf,y_lim_sup)\n",
    "    axes[0].set_title(f\"{pattern} by match\\n\" + f\"Rolling Stats with Window Size = {wd_size} Matches\")\n",
    "    axes[0].legend()\n",
    "\n",
    "    log_ret = np.log(data).diff().dropna()\n",
    "    first_mmt = calc_wma(log_ret, wd_size)\n",
    "    second_mmt = calc_wma(log_ret ** 2, wd_size)\n",
    "    rolling_mean = first_mmt\n",
    "    rolling_std = np.sqrt(second_mmt - first_mmt ** 2)\n",
    "    axes[1].plot(log_ret, label=\"Log Return\")\n",
    "    axes[1].plot(pd.Series(rolling_mean, index=log_ret.index), label=\"Rolling Mean\")\n",
    "    axes[1].plot(pd.Series(rolling_std, index=log_ret.index), label=\"Rolling Std\")\n",
    "\n",
    "    axes[1].set_xlabel(\"Match\")\n",
    "    axes[1].set_title(f\"Pattern by match\\n\" + f\"Rolling Stats with Window Size = {wd_size} Matchs\")\n",
    "    axes[1].legend()\n",
    "  else:\n",
    "    fig, ax = plt.subplots(figsize=(10, 6))\n",
    "    ax.set_xlabel(\"Match\")\n",
    "    wd_size = window_size\n",
    "    first_mmt = calc_wma(data, wd_size)\n",
    "    second_mmt = calc_wma((data) ** 2, wd_size)\n",
    "    rolling_mean = first_mmt\n",
    "    rolling_std = np.sqrt(second_mmt - first_mmt ** 2)\n",
    "    ax.plot(data, label=\"Original\")\n",
    "    ax.plot(pd.Series(rolling_mean, index=data.index), label=\"Rolling Mean\")\n",
    "    if y_lim_inf != 0 & y_lim_sup != 0:\n",
    "      plt.ylim(y_lim_inf,y_lim_sup)\n",
    "    ax.set_title(f\"{pattern} by match\\n\" + f\"Rolling Stats with Window Size = {wd_size} Matches\")\n",
    "    ax.legend()"
   ]
  },
  {
   "cell_type": "code",
   "execution_count": null,
   "metadata": {},
   "outputs": [],
   "source": [
    "draw_game_pattern(score_game['2PT']+score_game['3PT'], 400, \"Total Attempts\", 150, 350)"
   ]
  },
  {
   "cell_type": "code",
   "execution_count": null,
   "metadata": {},
   "outputs": [],
   "source": [
    "draw_game_pattern((score_game['2PT_make'] + score_game['3PT_make'])/(score_game['2PT']+score_game['3PT']), 400, \"Shooting Percentage\", 30, 60)"
   ]
  },
  {
   "cell_type": "code",
   "execution_count": null,
   "metadata": {},
   "outputs": [],
   "source": [
    "draw_game_pattern(score_game['Layup']+score_game['Finger Roll'], 400, \"Layup& Finger Roll Attempt\", 30, 60)"
   ]
  },
  {
   "cell_type": "code",
   "execution_count": null,
   "metadata": {},
   "outputs": [],
   "source": [
    "draw_game_pattern((score_game['Layup_make'] + score_game['Finger Roll_make'])/(score_game['Layup']+score_game['Finger Roll']), 400, \"Layup& Finger Roll Percentage\", 0, 0)"
   ]
  },
  {
   "cell_type": "code",
   "execution_count": null,
   "metadata": {},
   "outputs": [],
   "source": [
    "draw_game_pattern((score_game['Layup'] + score_game['Finger Roll'])/(score_game['make'] + score_game['miss'] - score_game['FT']), 400, \"Layup Scale\", 30, 60)"
   ]
  },
  {
   "cell_type": "code",
   "execution_count": null,
   "metadata": {},
   "outputs": [],
   "source": [
    "draw_game_pattern(score_game['2PT'], 400, \"2 Points Shooting Attempt\", 30, 60)\n",
    "draw_game_pattern(score_game['2PT_make']/score_game['2PT'], 400, \"2 Points Shooting Percentage\", 0, 0)\n",
    "draw_game_pattern(score_game['2PT']/(score_game['2PT'] + score_game['3PT']), 400, \"2 Points Shooting Scale\", 30, 60)"
   ]
  },
  {
   "cell_type": "code",
   "execution_count": null,
   "metadata": {},
   "outputs": [],
   "source": [
    "draw_game_pattern(score_game['3PT'], 400, \"3 Points Shooting Attempt\", 30, 60)\n",
    "draw_game_pattern(score_game['3PT_make']/score_game['3PT'], 400, \"3 Points Shooting Percentage\", 0, 0)\n",
    "draw_game_pattern(score_game['3PT']/(score_game['2PT'] + score_game['3PT']), 400, \"3 Points Shooting Scale\", 30, 60)"
   ]
  },
  {
   "cell_type": "markdown",
   "metadata": {},
   "source": [
    "## Shooting distance by game"
   ]
  },
  {
   "cell_type": "code",
   "execution_count": null,
   "metadata": {},
   "outputs": [],
   "source": [
    "distance = df[['GAME_ID', 'make', 'miss', 'player_name', 'Shot', 'Fadeaway', 'Shot_shot_distance', 'Fadeaway_shot_distance', '2PT', '3PT', '2PT_make', '2PT_miss', '3PT_make', '3PT_miss', 'position']].copy()\n",
    "distance = distance[(distance['Shot']==1) | (distance['Fadeaway']==1)]"
   ]
  },
  {
   "cell_type": "code",
   "execution_count": null,
   "metadata": {},
   "outputs": [],
   "source": [
    "distance['Shot_distance'] = distance['Shot_shot_distance']\n",
    "distance['make_distance'] = distance['Shot_distance'] * distance['make']\n",
    "distance['miss_distance'] = distance['Shot_distance'] * distance['miss']\n",
    "distance['2PT_make_distance'] = distance['Shot_distance'] * distance['make'] * distance['2PT']\n",
    "distance['2PT_miss_distance'] = distance['Shot_distance'] * distance['miss'] * distance['2PT']\n",
    "distance['3PT_make_distance'] = distance['Shot_distance'] * distance['make'] * distance['3PT']\n",
    "distance['3PT_miss_distance'] = distance['Shot_distance'] * distance['miss'] * distance['3PT']"
   ]
  },
  {
   "cell_type": "code",
   "execution_count": null,
   "metadata": {},
   "outputs": [],
   "source": [
    "# remove those error statistics about the shot distance\n",
    "distance.drop(547745,inplace=True)\n",
    "distance.drop(569570,inplace=True)\n",
    "distance.drop(525706,inplace=True)\n"
   ]
  },
  {
   "cell_type": "code",
   "execution_count": null,
   "metadata": {},
   "outputs": [],
   "source": [
    "filtered_df = distance[distance['make_distance'] != 0]\n",
    "distance_game = filtered_df.groupby('GAME_ID')['make_distance'].mean().reset_index()\n",
    "filtered_df = distance[distance['miss_distance'] != 0]\n",
    "distance_game = distance_game.merge(filtered_df.groupby('GAME_ID')['miss_distance'].mean().reset_index())\n",
    "filtered_df = distance[distance['2PT_make_distance'] != 0]\n",
    "distance_game = distance_game.merge(filtered_df.groupby('GAME_ID')['2PT_make_distance'].mean().reset_index())\n",
    "filtered_df = distance[distance['2PT_miss_distance'] != 0]\n",
    "distance_game = distance_game.merge(filtered_df.groupby('GAME_ID')['2PT_miss_distance'].mean().reset_index())\n",
    "filtered_df = distance[distance['3PT_make_distance'] != 0]\n",
    "distance_game = distance_game.merge(filtered_df.groupby('GAME_ID')['3PT_make_distance'].mean().reset_index())\n",
    "filtered_df = distance[distance['3PT_miss_distance'] != 0]\n",
    "distance_game = distance_game.merge(filtered_df.groupby('GAME_ID')['3PT_miss_distance'].mean().reset_index())\n",
    "distance_game = distance_game.merge(distance.groupby('GAME_ID')['Shot_distance'].mean().reset_index())"
   ]
  },
  {
   "cell_type": "code",
   "execution_count": null,
   "metadata": {},
   "outputs": [],
   "source": [
    "draw_game_pattern(distance_game['Shot_distance'], 400, \"Shooting Distance\", 30, 60)"
   ]
  },
  {
   "cell_type": "code",
   "execution_count": null,
   "metadata": {},
   "outputs": [],
   "source": [
    "draw_game_pattern(distance_game['make_distance'], 400, \"Shooting Made Distance\", 10, 30)"
   ]
  },
  {
   "cell_type": "code",
   "execution_count": null,
   "metadata": {},
   "outputs": [],
   "source": [
    "draw_game_pattern(distance_game['miss_distance'], 400, \"Shooting Miss Distance\", 0, 0)"
   ]
  },
  {
   "cell_type": "code",
   "execution_count": null,
   "metadata": {},
   "outputs": [],
   "source": [
    "draw_game_pattern(distance_game['2PT_make_distance'], 400, \"2 Points Shooting Made Distance\", 0, 0)"
   ]
  },
  {
   "cell_type": "code",
   "execution_count": null,
   "metadata": {},
   "outputs": [],
   "source": [
    "draw_game_pattern(distance_game['2PT_miss_distance'], 400, \"2 Points Shooting Miss Distance\", 0, 0)"
   ]
  },
  {
   "cell_type": "code",
   "execution_count": null,
   "metadata": {},
   "outputs": [],
   "source": [
    "draw_game_pattern(distance_game['3PT_make_distance'], 400, \"3 Points Shooting Made Distance\", 0, 0)"
   ]
  },
  {
   "cell_type": "code",
   "execution_count": null,
   "metadata": {},
   "outputs": [],
   "source": [
    "draw_game_pattern(distance_game['3PT_miss_distance'], 400, \"3 Points Shooting Miss Distance\", 0, 0)"
   ]
  },
  {
   "cell_type": "markdown",
   "metadata": {},
   "source": [
    "## Shooting distance analysis by position in game by game data"
   ]
  },
  {
   "cell_type": "code",
   "execution_count": null,
   "metadata": {},
   "outputs": [],
   "source": [
    "shooting_position = distance.copy()\n",
    "shooting_position['position'] = shooting_position['position'].dropna().apply(lambda x: x.split('-')[0])"
   ]
  },
  {
   "cell_type": "code",
   "execution_count": null,
   "metadata": {},
   "outputs": [],
   "source": [
    "def groupby_position(dataframe, position):\n",
    "\n",
    "  df = dataframe[dataframe['position']==position]\n",
    "  filtered_df = df[df['make_distance'] != 0]\n",
    "  distance_game_position = filtered_df.groupby('GAME_ID')['make_distance'].mean()\n",
    "  distance_game_position = distance_game_position.reindex(dataframe['GAME_ID'].unique(), fill_value=0)\n",
    "  distance_game_position = distance_game_position.reset_index()\n",
    "  filtered_df = df[df['miss_distance'] != 0]\n",
    "  distance_game_position = distance_game_position.merge(filtered_df.groupby('GAME_ID')['miss_distance'].mean().reset_index(), how=\"outer\").fillna(0)\n",
    "  filtered_df = df[df['2PT_make_distance'] != 0]\n",
    "  distance_game_position = distance_game_position.merge(filtered_df.groupby('GAME_ID')['2PT_make_distance'].mean().reset_index(), how=\"outer\").fillna(0)\n",
    "  filtered_df = df[df['2PT_miss_distance'] != 0]\n",
    "  distance_game_position = distance_game_position.merge(filtered_df.groupby('GAME_ID')['2PT_miss_distance'].mean().reset_index(), how=\"outer\").fillna(0)\n",
    "  filtered_df = df[df['3PT_make_distance'] != 0]\n",
    "  distance_game_position = distance_game_position.merge(filtered_df.groupby('GAME_ID')['3PT_make_distance'].mean().reset_index(), how=\"outer\").fillna(0)\n",
    "  filtered_df = df[df['3PT_miss_distance'] != 0]\n",
    "  distance_game_position = distance_game_position.merge(filtered_df.groupby('GAME_ID')['3PT_miss_distance'].mean().reset_index(), how=\"outer\").fillna(0)\n",
    "  distance_game_position = distance_game_position.merge(df.groupby('GAME_ID')['Shot_distance'].mean().reset_index(), how=\"outer\").fillna(0)\n",
    "  return distance_game_position\n"
   ]
  },
  {
   "cell_type": "code",
   "execution_count": null,
   "metadata": {},
   "outputs": [],
   "source": [
    "center_distance = groupby_position(distance, \"C\")\n",
    "forward_distance = groupby_position(distance, \"F\")\n",
    "guard_distance = groupby_position(distance, \"G\")"
   ]
  },
  {
   "cell_type": "code",
   "execution_count": null,
   "metadata": {},
   "outputs": [],
   "source": [
    "draw_game_pattern(center_distance['3PT_make_distance'], 200, \"Center Three points shooting distance\")"
   ]
  },
  {
   "cell_type": "code",
   "execution_count": null,
   "metadata": {},
   "outputs": [],
   "source": [
    "draw_game_pattern(center_distance['make_distance'], 200, \"Center Shooting Distance\")"
   ]
  },
  {
   "cell_type": "code",
   "execution_count": null,
   "metadata": {},
   "outputs": [],
   "source": [
    "draw_game_pattern(forward_distance['make_distance'], 200, \"Forward shooting distance\")"
   ]
  },
  {
   "cell_type": "code",
   "execution_count": null,
   "metadata": {},
   "outputs": [],
   "source": [
    "draw_game_pattern(guard_distance['make_distance'], 200, \"Guard shooting distance\")"
   ]
  }
 ],
 "metadata": {
  "kernelspec": {
   "display_name": "Python 3",
   "language": "python",
   "name": "python3"
  },
  "language_info": {
   "codemirror_mode": {
    "name": "ipython",
    "version": 3
   },
   "file_extension": ".py",
   "mimetype": "text/x-python",
   "name": "python",
   "nbconvert_exporter": "python",
   "pygments_lexer": "ipython3",
   "version": "3.9.16"
  }
 },
 "nbformat": 4,
 "nbformat_minor": 2
}
